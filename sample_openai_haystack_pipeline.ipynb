{
 "cells": [
  {
   "cell_type": "code",
   "execution_count": 1,
   "id": "46a28518",
   "metadata": {},
   "outputs": [],
   "source": [
    "import logging\n",
    "\n",
    "logging.basicConfig(format=\"%(levelname)s - %(name)s -  %(message)s\", level=logging.WARNING)\n",
    "logging.getLogger(\"haystack\").setLevel(logging.WARNING)\n"
   ]
  },
  {
   "cell_type": "code",
   "execution_count": 2,
   "id": "fd5e0ca4",
   "metadata": {},
   "outputs": [
    {
     "data": {
      "text/plain": [
       "'Albert Einstein Albert Einstein (; ; 14 March 1879 – 18 April 1955) was a German-born theoretical physicist who developed the theory of relativity, one of the two pillars of modern physics (alongside quantum mechanics). His work is also known for its influence on the philosophy of science. He is best known to the general public for his mass–energy equivalence formula , which has been dubbed \"the world\\'s most famous equation\". He received the 1921 Nobel Prize in Physics \"for his services to theoretical physics, and especially for his discovery of the law of the photoelectric effect\", a pivotal step'"
      ]
     },
     "execution_count": 2,
     "metadata": {},
     "output_type": "execute_result"
    }
   ],
   "source": [
    "import pandas as pd\n",
    "\n",
    "from haystack.utils import fetch_archive_from_http\n",
    "\n",
    "\n",
    "# Download sample\n",
    "doc_dir = \"data/tutorial7/\"\n",
    "s3_url = \"https://s3.eu-central-1.amazonaws.com/deepset.ai-farm-qa/datasets/small_generator_dataset.csv.zip\"\n",
    "fetch_archive_from_http(url=s3_url, output_dir=doc_dir)\n",
    "\n",
    "# Create dataframe with columns \"title\" and \"text\"\n",
    "df = pd.read_csv(f\"{doc_dir}/small_generator_dataset.csv\", sep=\",\")\n",
    "# Minimal cleaning\n",
    "df.fillna(value=\"\", inplace=True)\n",
    "\n",
    "#print(df.head())\n",
    "df.iloc[1,1]\n"
   ]
  },
  {
   "cell_type": "code",
   "execution_count": 3,
   "id": "d47db297-150c-4b8f-bf8d-52b4a7bae065",
   "metadata": {},
   "outputs": [
    {
     "data": {
      "text/plain": [
       "(75, 2)"
      ]
     },
     "execution_count": 3,
     "metadata": {},
     "output_type": "execute_result"
    }
   ],
   "source": [
    "df.shape"
   ]
  },
  {
   "cell_type": "code",
   "execution_count": 5,
   "id": "974b194f",
   "metadata": {},
   "outputs": [
    {
     "data": {
      "text/html": [
       "<div>\n",
       "<style scoped>\n",
       "    .dataframe tbody tr th:only-of-type {\n",
       "        vertical-align: middle;\n",
       "    }\n",
       "\n",
       "    .dataframe tbody tr th {\n",
       "        vertical-align: top;\n",
       "    }\n",
       "\n",
       "    .dataframe thead th {\n",
       "        text-align: right;\n",
       "    }\n",
       "</style>\n",
       "<table border=\"1\" class=\"dataframe\">\n",
       "  <thead>\n",
       "    <tr style=\"text-align: right;\">\n",
       "      <th></th>\n",
       "      <th>title</th>\n",
       "      <th>text</th>\n",
       "    </tr>\n",
       "  </thead>\n",
       "  <tbody>\n",
       "    <tr>\n",
       "      <th>0</th>\n",
       "      <td>\"Albert Einstein\"</td>\n",
       "      <td>to Einstein in 1922. Footnotes Citations Albert Einstein Albert Einstein (; ...</td>\n",
       "    </tr>\n",
       "    <tr>\n",
       "      <th>1</th>\n",
       "      <td>\"Albert Einstein\"</td>\n",
       "      <td>Albert Einstein Albert Einstein (; ; 14 March 1879 – 18 April 1955) was a Ge...</td>\n",
       "    </tr>\n",
       "    <tr>\n",
       "      <th>2</th>\n",
       "      <td>\"Albert Einstein\"</td>\n",
       "      <td>observations were published in the international media, making Einstein worl...</td>\n",
       "    </tr>\n",
       "    <tr>\n",
       "      <th>3</th>\n",
       "      <td>\"Albert Einstein\"</td>\n",
       "      <td>model for depictions of mad scientists and absent-minded professors; his exp...</td>\n",
       "    </tr>\n",
       "    <tr>\n",
       "      <th>4</th>\n",
       "      <td>\"Alfred Nobel\"</td>\n",
       "      <td>was adopted as the standard technology for mining in the \"Age of Engineering...</td>\n",
       "    </tr>\n",
       "    <tr>\n",
       "      <th>5</th>\n",
       "      <td>\"Akira Kurosawa\"</td>\n",
       "      <td>for 2020. Patrick Frater writing for \"Variety\" magazine in May 2017 stated t...</td>\n",
       "    </tr>\n",
       "    <tr>\n",
       "      <th>6</th>\n",
       "      <td>\"Apple Inc.\"</td>\n",
       "      <td>a near bezel-less design along with wireless charging. On September 12, 2018...</td>\n",
       "    </tr>\n",
       "    <tr>\n",
       "      <th>7</th>\n",
       "      <td>\"Akira Kurosawa\"</td>\n",
       "      <td>through the Second World War and beyond. The narrative centers on yearly bir...</td>\n",
       "    </tr>\n",
       "    <tr>\n",
       "      <th>8</th>\n",
       "      <td>\"Apple Inc.\"</td>\n",
       "      <td>2016, Apple introduced the iPhone 7 and the iPhone 7 Plus, which feature imp...</td>\n",
       "    </tr>\n",
       "    <tr>\n",
       "      <th>9</th>\n",
       "      <td>\"Apple Inc.\"</td>\n",
       "      <td>a faster processor, and brighter display. On September 12, 2017, Apple intro...</td>\n",
       "    </tr>\n",
       "    <tr>\n",
       "      <th>10</th>\n",
       "      <td>\"Amplitude modulation\"</td>\n",
       "      <td>Amplitude modulation Amplitude modulation (AM) is a modulation technique use...</td>\n",
       "    </tr>\n",
       "    <tr>\n",
       "      <th>11</th>\n",
       "      <td>\"Amplitude modulation\"</td>\n",
       "      <td>AM transmission (refer to Figure 2, but only considering positive frequencie...</td>\n",
       "    </tr>\n",
       "    <tr>\n",
       "      <th>12</th>\n",
       "      <td>\"Amplitude modulation\"</td>\n",
       "      <td>the earliest modulation method used to transmit voice by radio. It was devel...</td>\n",
       "    </tr>\n",
       "    <tr>\n",
       "      <th>13</th>\n",
       "      <td>\"Amplitude modulation\"</td>\n",
       "      <td>in which ones and zeros are represented by the presence or absence of a carr...</td>\n",
       "    </tr>\n",
       "    <tr>\n",
       "      <th>14</th>\n",
       "      <td>\"Amplitude modulation\"</td>\n",
       "      <td>reduced-carrier transmission or DSB-RC) to use in the demodulation process. ...</td>\n",
       "    </tr>\n",
       "  </tbody>\n",
       "</table>\n",
       "</div>"
      ],
      "text/plain": [
       "                     title  \\\n",
       "0        \"Albert Einstein\"   \n",
       "1        \"Albert Einstein\"   \n",
       "2        \"Albert Einstein\"   \n",
       "3        \"Albert Einstein\"   \n",
       "4           \"Alfred Nobel\"   \n",
       "5         \"Akira Kurosawa\"   \n",
       "6             \"Apple Inc.\"   \n",
       "7         \"Akira Kurosawa\"   \n",
       "8             \"Apple Inc.\"   \n",
       "9             \"Apple Inc.\"   \n",
       "10  \"Amplitude modulation\"   \n",
       "11  \"Amplitude modulation\"   \n",
       "12  \"Amplitude modulation\"   \n",
       "13  \"Amplitude modulation\"   \n",
       "14  \"Amplitude modulation\"   \n",
       "\n",
       "                                                                               text  \n",
       "0   to Einstein in 1922. Footnotes Citations Albert Einstein Albert Einstein (; ...  \n",
       "1   Albert Einstein Albert Einstein (; ; 14 March 1879 – 18 April 1955) was a Ge...  \n",
       "2   observations were published in the international media, making Einstein worl...  \n",
       "3   model for depictions of mad scientists and absent-minded professors; his exp...  \n",
       "4   was adopted as the standard technology for mining in the \"Age of Engineering...  \n",
       "5   for 2020. Patrick Frater writing for \"Variety\" magazine in May 2017 stated t...  \n",
       "6   a near bezel-less design along with wireless charging. On September 12, 2018...  \n",
       "7   through the Second World War and beyond. The narrative centers on yearly bir...  \n",
       "8   2016, Apple introduced the iPhone 7 and the iPhone 7 Plus, which feature imp...  \n",
       "9   a faster processor, and brighter display. On September 12, 2017, Apple intro...  \n",
       "10  Amplitude modulation Amplitude modulation (AM) is a modulation technique use...  \n",
       "11  AM transmission (refer to Figure 2, but only considering positive frequencie...  \n",
       "12  the earliest modulation method used to transmit voice by radio. It was devel...  \n",
       "13  in which ones and zeros are represented by the presence or absence of a carr...  \n",
       "14  reduced-carrier transmission or DSB-RC) to use in the demodulation process. ...  "
      ]
     },
     "execution_count": 5,
     "metadata": {},
     "output_type": "execute_result"
    }
   ],
   "source": [
    "df.head(15)"
   ]
  },
  {
   "cell_type": "code",
   "execution_count": 6,
   "id": "53904dd9",
   "metadata": {},
   "outputs": [],
   "source": [
    "from haystack import Document\n",
    "\n",
    "\n",
    "# Use data to initialize Document objects\n",
    "titles = list(df[\"title\"].values)\n",
    "texts = list(df[\"text\"].values)\n",
    "documents = []\n",
    "for title, text in zip(titles, texts):\n",
    "    documents.append(Document(content=text, meta={\"name\": title or \"\"}))\n"
   ]
  },
  {
   "cell_type": "code",
   "execution_count": 7,
   "id": "ab4c584d",
   "metadata": {},
   "outputs": [
    {
     "name": "stdout",
     "output_type": "stream",
     "text": [
      "<Document: id=4a347e0fc7c1b7d06fa7d7a2aa580555, content='observations were published in the international media, making Einstein world-famous. On 7 November ...'>\n"
     ]
    }
   ],
   "source": [
    "print(documents[2])"
   ]
  },
  {
   "cell_type": "code",
   "execution_count": 8,
   "id": "561c8b92",
   "metadata": {},
   "outputs": [
    {
     "name": "stdout",
     "output_type": "stream",
     "text": [
      "None\n"
     ]
    }
   ],
   "source": [
    "print(documents[0].embedding)"
   ]
  },
  {
   "cell_type": "code",
   "execution_count": 9,
   "id": "db170699",
   "metadata": {},
   "outputs": [],
   "source": [
    "%%bash --bg\n",
    "\n",
    "sudo -u daemon -- elasticsearch-7.9.2/bin/elasticsearch\n",
    "\n"
   ]
  },
  {
   "cell_type": "code",
   "execution_count": 10,
   "id": "fe6761a6",
   "metadata": {},
   "outputs": [],
   "source": [
    "import time\n",
    "time.sleep(30)\n"
   ]
  },
  {
   "cell_type": "code",
   "execution_count": 11,
   "id": "929400f1",
   "metadata": {},
   "outputs": [],
   "source": [
    "from haystack.utils import launch_es\n",
    "launch_es()\n"
   ]
  },
  {
   "cell_type": "code",
   "execution_count": 12,
   "id": "de1397b2",
   "metadata": {},
   "outputs": [],
   "source": [
    "import os\n",
    "from haystack.document_stores import ElasticsearchDocumentStore\n",
    "\n",
    "# Get the host where Elasticsearch is running, default to localhost\n",
    "host = os.environ.get(\"ELASTICSEARCH_HOST\", \"localhost\")\n",
    "\n",
    "# document_store = ElasticsearchDocumentStore(\n",
    "#     host=host,\n",
    "#     username=\"\",\n",
    "#     password=\"\",\n",
    "#     index=\"document\",\n",
    "#     embedding_field=\"embedding\",\n",
    "#     embedding_dim=1536\n",
    "# )\n",
    "\n",
    "document_store = ElasticsearchDocumentStore(\n",
    "    host=host,\n",
    "    username=\"\",\n",
    "    password=\"\",\n",
    "    index=\"document-small-test\",\n",
    "    search_fields = [\"title\", \"text\"],\n",
    "    embedding_field=\"embedding\", \n",
    "    excluded_meta_data=[\"embedding\"],\n",
    "    embedding_dim=1536)\n"
   ]
  },
  {
   "cell_type": "code",
   "execution_count": 13,
   "id": "b0d9cf36",
   "metadata": {},
   "outputs": [],
   "source": [
    "from haystack.nodes import EmbeddingRetriever\n",
    "\n",
    "\n",
    "# OpenAI EmbeddingRetriever\n",
    "retriever = EmbeddingRetriever(\n",
    "   document_store=document_store,\n",
    "   batch_size=8,\n",
    "   embedding_model=\"text-embedding-ada-002\",\n",
    "   api_key=\"<insert-openAI-API-key-here>\",\n",
    "   max_seq_len=8191,\n",
    ")"
   ]
  },
  {
   "cell_type": "code",
   "execution_count": null,
   "id": "c84b04b8-e63b-4162-b8bb-92fcb7d785ee",
   "metadata": {},
   "outputs": [],
   "source": []
  },
  {
   "cell_type": "code",
   "execution_count": 14,
   "id": "e2e2e161",
   "metadata": {},
   "outputs": [
    {
     "name": "stdout",
     "output_type": "stream",
     "text": [
      "CPU times: user 4.41 ms, sys: 2.67 ms, total: 7.08 ms\n",
      "Wall time: 901 ms\n"
     ]
    }
   ],
   "source": [
    "\n",
    "document_store.write_documents(documents)"
   ]
  },
  {
   "cell_type": "code",
   "execution_count": 16,
   "id": "41c4fe92",
   "metadata": {},
   "outputs": [
    {
     "name": "stdout",
     "output_type": "stream",
     "text": [
      "[-0.00693703 -0.02328351  0.01684615 ... -0.00392277 -0.00844255\n",
      "  0.00470797]\n"
     ]
    }
   ],
   "source": [
    "#documents = document_store.get_all_documents(return_embedding=True)\n",
    "print(documents[0].embedding)"
   ]
  },
  {
   "cell_type": "code",
   "execution_count": 17,
   "id": "ff2c3c57-73bb-4fc3-814f-d00ea8d20c23",
   "metadata": {},
   "outputs": [
    {
     "data": {
      "application/vnd.jupyter.widget-view+json": {
       "model_id": "d78017ad1f834dce8cddc96ab553b91e",
       "version_major": 2,
       "version_minor": 0
      },
      "text/plain": [
       "Updating embeddings:   0%|          | 0/68 [00:00<?, ? Docs/s]"
      ]
     },
     "metadata": {},
     "output_type": "display_data"
    },
    {
     "data": {
      "application/vnd.jupyter.widget-view+json": {
       "model_id": "993a5b20fc97403eb3ac60d5e9ee4bc1",
       "version_major": 2,
       "version_minor": 0
      },
      "text/plain": [
       "Calculating embeddings:   0%|          | 0/9 [00:00<?, ?it/s]"
      ]
     },
     "metadata": {},
     "output_type": "display_data"
    },
    {
     "name": "stdout",
     "output_type": "stream",
     "text": [
      "[-0.00693703 -0.02328351  0.01684615 ... -0.00392277 -0.00844255\n",
      "  0.00470797]\n",
      "CPU times: user 523 ms, sys: 120 ms, total: 643 ms\n",
      "Wall time: 15.9 s\n"
     ]
    }
   ],
   "source": [
    "\n",
    "document_store.update_embeddings(retriever)\n",
    "print(documents[0].embedding)"
   ]
  },
  {
   "cell_type": "code",
   "execution_count": 16,
   "id": "eadaf291",
   "metadata": {},
   "outputs": [],
   "source": [
    "from haystack.nodes import OpenAIAnswerGenerator\n",
    "\n",
    "generator = OpenAIAnswerGenerator(model=\"text-davinci-003\", api_key=\"<insert-openai-api-key-here>\")"
   ]
  },
  {
   "cell_type": "code",
   "execution_count": 18,
   "id": "90a3699e",
   "metadata": {},
   "outputs": [
    {
     "name": "stderr",
     "output_type": "stream",
     "text": [
      "Calculating embeddings: 100%|█████████████████████| 1/1 [00:01<00:00,  1.12s/it]\n"
     ]
    }
   ],
   "source": [
    "from haystack.pipelines import GenerativeQAPipeline\n",
    "\n",
    "pipeline = GenerativeQAPipeline(generator=generator, retriever=retriever)\n",
    "result = pipeline.run(query='who is Albert Einstein?', params={\"Retriever\": {\"top_k\": 5}})"
   ]
  },
  {
   "cell_type": "code",
   "execution_count": 19,
   "id": "500332a2",
   "metadata": {},
   "outputs": [
    {
     "name": "stdout",
     "output_type": "stream",
     "text": [
      "{'answers': [<Answer {'answer': ' Albert Einstein was a German-born theoretical physicist who developed the theory', 'type': 'generative', 'score': None, 'context': None, 'offsets_in_document': None, 'offsets_in_context': None, 'document_id': None, 'meta': {'doc_ids': ['b85487f3f7fd1b9d5d4f4ed0aea4ef09', 'ab6983f94425886f00fd550b2ac0f037', 'd34ecd3aeacc8cbd33555e07f9a98c73', '4a347e0fc7c1b7d06fa7d7a2aa580555', '3c527839680f7f5ff3cb758454fa5079'], 'doc_scores': [0.5022289852339108, 0.5022138855319724, 0.5021411119123516, 0.5020899878276465, 0.5019322403810851], 'content': ['Albert Einstein Albert Einstein (; ; 14 March 1879 – 18 April 1955) was a German-born theoretical physicist who developed the theory of relativity, one of the two pillars of modern physics (alongside quantum mechanics). His work is also known for its influence on the philosophy of science. He is best known to the general public for his mass–energy equivalence formula , which has been dubbed \"the world\\'s most famous equation\". He received the 1921 Nobel Prize in Physics \"for his services to theoretical physics, and especially for his discovery of the law of the photoelectric effect\", a pivotal step', 'to Einstein in 1922. Footnotes Citations Albert Einstein Albert Einstein (; ; 14 March 1879 – 18 April 1955) was a German-born theoretical physicist who developed the theory of relativity, one of the two pillars of modern physics (alongside quantum mechanics). His work is also known for its influence on the philosophy of science. He is best known to the general public for his mass–energy equivalence formula , which has been dubbed \"the world\\'s most famous equation\". He received the 1921 Nobel Prize in Physics \"for his services to theoretical physics, and especially for his discovery of the law of', 'model for depictions of mad scientists and absent-minded professors; his expressive face and distinctive hairstyle have been widely copied and exaggerated. \"Time\" magazine\\'s Frederic Golden wrote that Einstein was \"a cartoonist\\'s dream come true\". Many popular quotations are often misattributed to him. Einstein received numerous awards and honors and in 1922 he was awarded the 1921 Nobel Prize in Physics \"for his services to Theoretical Physics, and especially for his discovery of the law of the photoelectric effect\". None of the nominations in 1921 met the criteria set by Alfred Nobel, so the 1921 prize was carried forward and awarded', 'observations were published in the international media, making Einstein world-famous. On 7 November 1919, the leading British newspaper \"The Times\" printed a banner headline that read: \"Revolution in Science – New Theory of the Universe – Newtonian Ideas Overthrown\". In 1920, he became a Foreign Member of the Royal Netherlands Academy of Arts and Sciences. In 1922, he was awarded the 1921 Nobel Prize in Physics \"for his services to Theoretical Physics, and especially for his discovery of the law of the photoelectric effect\". While the general theory of relativity was still considered somewhat controversial, the citation also does not', 'theory and stellar aberration. He was informed that he was trying to break down open doors (\"\"il enfonçait des portes ouvertes\"\"), and directed to classical works on optics. On 12 July 1815, as Fresnel was about to leave Paris, Arago left him a note on a new topic: Fresnel would not have ready access to these works outside Paris, and could not read English. But, in Mathieu — with a point-source of light made by focusing sunlight with a drop of honey, a crude micrometer of his own construction, and supporting apparatus made by a local locksmith — he began'], 'titles': ['\"Albert Einstein\"', '\"Albert Einstein\"', '\"Albert Einstein\"', '\"Albert Einstein\"', '\"Augustin-Jean Fresnel\"']}}>,\n",
      "             <Answer {'answer': ' Albert Einstein was a German-born theoretical physicist who developed the theory', 'type': 'generative', 'score': None, 'context': None, 'offsets_in_document': None, 'offsets_in_context': None, 'document_id': None, 'meta': {'doc_ids': ['b85487f3f7fd1b9d5d4f4ed0aea4ef09', 'ab6983f94425886f00fd550b2ac0f037', 'd34ecd3aeacc8cbd33555e07f9a98c73', '4a347e0fc7c1b7d06fa7d7a2aa580555', '3c527839680f7f5ff3cb758454fa5079'], 'doc_scores': [0.5022289852339108, 0.5022138855319724, 0.5021411119123516, 0.5020899878276465, 0.5019322403810851], 'content': ['Albert Einstein Albert Einstein (; ; 14 March 1879 – 18 April 1955) was a German-born theoretical physicist who developed the theory of relativity, one of the two pillars of modern physics (alongside quantum mechanics). His work is also known for its influence on the philosophy of science. He is best known to the general public for his mass–energy equivalence formula , which has been dubbed \"the world\\'s most famous equation\". He received the 1921 Nobel Prize in Physics \"for his services to theoretical physics, and especially for his discovery of the law of the photoelectric effect\", a pivotal step', 'to Einstein in 1922. Footnotes Citations Albert Einstein Albert Einstein (; ; 14 March 1879 – 18 April 1955) was a German-born theoretical physicist who developed the theory of relativity, one of the two pillars of modern physics (alongside quantum mechanics). His work is also known for its influence on the philosophy of science. He is best known to the general public for his mass–energy equivalence formula , which has been dubbed \"the world\\'s most famous equation\". He received the 1921 Nobel Prize in Physics \"for his services to theoretical physics, and especially for his discovery of the law of', 'model for depictions of mad scientists and absent-minded professors; his expressive face and distinctive hairstyle have been widely copied and exaggerated. \"Time\" magazine\\'s Frederic Golden wrote that Einstein was \"a cartoonist\\'s dream come true\". Many popular quotations are often misattributed to him. Einstein received numerous awards and honors and in 1922 he was awarded the 1921 Nobel Prize in Physics \"for his services to Theoretical Physics, and especially for his discovery of the law of the photoelectric effect\". None of the nominations in 1921 met the criteria set by Alfred Nobel, so the 1921 prize was carried forward and awarded', 'observations were published in the international media, making Einstein world-famous. On 7 November 1919, the leading British newspaper \"The Times\" printed a banner headline that read: \"Revolution in Science – New Theory of the Universe – Newtonian Ideas Overthrown\". In 1920, he became a Foreign Member of the Royal Netherlands Academy of Arts and Sciences. In 1922, he was awarded the 1921 Nobel Prize in Physics \"for his services to Theoretical Physics, and especially for his discovery of the law of the photoelectric effect\". While the general theory of relativity was still considered somewhat controversial, the citation also does not', 'theory and stellar aberration. He was informed that he was trying to break down open doors (\"\"il enfonçait des portes ouvertes\"\"), and directed to classical works on optics. On 12 July 1815, as Fresnel was about to leave Paris, Arago left him a note on a new topic: Fresnel would not have ready access to these works outside Paris, and could not read English. But, in Mathieu — with a point-source of light made by focusing sunlight with a drop of honey, a crude micrometer of his own construction, and supporting apparatus made by a local locksmith — he began'], 'titles': ['\"Albert Einstein\"', '\"Albert Einstein\"', '\"Albert Einstein\"', '\"Albert Einstein\"', '\"Augustin-Jean Fresnel\"']}}>,\n",
      "             <Answer {'answer': ' Albert Einstein was a German-born theoretical physicist who developed the theory', 'type': 'generative', 'score': None, 'context': None, 'offsets_in_document': None, 'offsets_in_context': None, 'document_id': None, 'meta': {'doc_ids': ['b85487f3f7fd1b9d5d4f4ed0aea4ef09', 'ab6983f94425886f00fd550b2ac0f037', 'd34ecd3aeacc8cbd33555e07f9a98c73', '4a347e0fc7c1b7d06fa7d7a2aa580555', '3c527839680f7f5ff3cb758454fa5079'], 'doc_scores': [0.5022289852339108, 0.5022138855319724, 0.5021411119123516, 0.5020899878276465, 0.5019322403810851], 'content': ['Albert Einstein Albert Einstein (; ; 14 March 1879 – 18 April 1955) was a German-born theoretical physicist who developed the theory of relativity, one of the two pillars of modern physics (alongside quantum mechanics). His work is also known for its influence on the philosophy of science. He is best known to the general public for his mass–energy equivalence formula , which has been dubbed \"the world\\'s most famous equation\". He received the 1921 Nobel Prize in Physics \"for his services to theoretical physics, and especially for his discovery of the law of the photoelectric effect\", a pivotal step', 'to Einstein in 1922. Footnotes Citations Albert Einstein Albert Einstein (; ; 14 March 1879 – 18 April 1955) was a German-born theoretical physicist who developed the theory of relativity, one of the two pillars of modern physics (alongside quantum mechanics). His work is also known for its influence on the philosophy of science. He is best known to the general public for his mass–energy equivalence formula , which has been dubbed \"the world\\'s most famous equation\". He received the 1921 Nobel Prize in Physics \"for his services to theoretical physics, and especially for his discovery of the law of', 'model for depictions of mad scientists and absent-minded professors; his expressive face and distinctive hairstyle have been widely copied and exaggerated. \"Time\" magazine\\'s Frederic Golden wrote that Einstein was \"a cartoonist\\'s dream come true\". Many popular quotations are often misattributed to him. Einstein received numerous awards and honors and in 1922 he was awarded the 1921 Nobel Prize in Physics \"for his services to Theoretical Physics, and especially for his discovery of the law of the photoelectric effect\". None of the nominations in 1921 met the criteria set by Alfred Nobel, so the 1921 prize was carried forward and awarded', 'observations were published in the international media, making Einstein world-famous. On 7 November 1919, the leading British newspaper \"The Times\" printed a banner headline that read: \"Revolution in Science – New Theory of the Universe – Newtonian Ideas Overthrown\". In 1920, he became a Foreign Member of the Royal Netherlands Academy of Arts and Sciences. In 1922, he was awarded the 1921 Nobel Prize in Physics \"for his services to Theoretical Physics, and especially for his discovery of the law of the photoelectric effect\". While the general theory of relativity was still considered somewhat controversial, the citation also does not', 'theory and stellar aberration. He was informed that he was trying to break down open doors (\"\"il enfonçait des portes ouvertes\"\"), and directed to classical works on optics. On 12 July 1815, as Fresnel was about to leave Paris, Arago left him a note on a new topic: Fresnel would not have ready access to these works outside Paris, and could not read English. But, in Mathieu — with a point-source of light made by focusing sunlight with a drop of honey, a crude micrometer of his own construction, and supporting apparatus made by a local locksmith — he began'], 'titles': ['\"Albert Einstein\"', '\"Albert Einstein\"', '\"Albert Einstein\"', '\"Albert Einstein\"', '\"Augustin-Jean Fresnel\"']}}>,\n",
      "             <Answer {'answer': ' Albert Einstein was a German-born theoretical physicist who developed the theory', 'type': 'generative', 'score': None, 'context': None, 'offsets_in_document': None, 'offsets_in_context': None, 'document_id': None, 'meta': {'doc_ids': ['b85487f3f7fd1b9d5d4f4ed0aea4ef09', 'ab6983f94425886f00fd550b2ac0f037', 'd34ecd3aeacc8cbd33555e07f9a98c73', '4a347e0fc7c1b7d06fa7d7a2aa580555', '3c527839680f7f5ff3cb758454fa5079'], 'doc_scores': [0.5022289852339108, 0.5022138855319724, 0.5021411119123516, 0.5020899878276465, 0.5019322403810851], 'content': ['Albert Einstein Albert Einstein (; ; 14 March 1879 – 18 April 1955) was a German-born theoretical physicist who developed the theory of relativity, one of the two pillars of modern physics (alongside quantum mechanics). His work is also known for its influence on the philosophy of science. He is best known to the general public for his mass–energy equivalence formula , which has been dubbed \"the world\\'s most famous equation\". He received the 1921 Nobel Prize in Physics \"for his services to theoretical physics, and especially for his discovery of the law of the photoelectric effect\", a pivotal step', 'to Einstein in 1922. Footnotes Citations Albert Einstein Albert Einstein (; ; 14 March 1879 – 18 April 1955) was a German-born theoretical physicist who developed the theory of relativity, one of the two pillars of modern physics (alongside quantum mechanics). His work is also known for its influence on the philosophy of science. He is best known to the general public for his mass–energy equivalence formula , which has been dubbed \"the world\\'s most famous equation\". He received the 1921 Nobel Prize in Physics \"for his services to theoretical physics, and especially for his discovery of the law of', 'model for depictions of mad scientists and absent-minded professors; his expressive face and distinctive hairstyle have been widely copied and exaggerated. \"Time\" magazine\\'s Frederic Golden wrote that Einstein was \"a cartoonist\\'s dream come true\". Many popular quotations are often misattributed to him. Einstein received numerous awards and honors and in 1922 he was awarded the 1921 Nobel Prize in Physics \"for his services to Theoretical Physics, and especially for his discovery of the law of the photoelectric effect\". None of the nominations in 1921 met the criteria set by Alfred Nobel, so the 1921 prize was carried forward and awarded', 'observations were published in the international media, making Einstein world-famous. On 7 November 1919, the leading British newspaper \"The Times\" printed a banner headline that read: \"Revolution in Science – New Theory of the Universe – Newtonian Ideas Overthrown\". In 1920, he became a Foreign Member of the Royal Netherlands Academy of Arts and Sciences. In 1922, he was awarded the 1921 Nobel Prize in Physics \"for his services to Theoretical Physics, and especially for his discovery of the law of the photoelectric effect\". While the general theory of relativity was still considered somewhat controversial, the citation also does not', 'theory and stellar aberration. He was informed that he was trying to break down open doors (\"\"il enfonçait des portes ouvertes\"\"), and directed to classical works on optics. On 12 July 1815, as Fresnel was about to leave Paris, Arago left him a note on a new topic: Fresnel would not have ready access to these works outside Paris, and could not read English. But, in Mathieu — with a point-source of light made by focusing sunlight with a drop of honey, a crude micrometer of his own construction, and supporting apparatus made by a local locksmith — he began'], 'titles': ['\"Albert Einstein\"', '\"Albert Einstein\"', '\"Albert Einstein\"', '\"Albert Einstein\"', '\"Augustin-Jean Fresnel\"']}}>,\n",
      "             <Answer {'answer': ' Albert Einstein was a German-born theoretical physicist who developed the theory', 'type': 'generative', 'score': None, 'context': None, 'offsets_in_document': None, 'offsets_in_context': None, 'document_id': None, 'meta': {'doc_ids': ['b85487f3f7fd1b9d5d4f4ed0aea4ef09', 'ab6983f94425886f00fd550b2ac0f037', 'd34ecd3aeacc8cbd33555e07f9a98c73', '4a347e0fc7c1b7d06fa7d7a2aa580555', '3c527839680f7f5ff3cb758454fa5079'], 'doc_scores': [0.5022289852339108, 0.5022138855319724, 0.5021411119123516, 0.5020899878276465, 0.5019322403810851], 'content': ['Albert Einstein Albert Einstein (; ; 14 March 1879 – 18 April 1955) was a German-born theoretical physicist who developed the theory of relativity, one of the two pillars of modern physics (alongside quantum mechanics). His work is also known for its influence on the philosophy of science. He is best known to the general public for his mass–energy equivalence formula , which has been dubbed \"the world\\'s most famous equation\". He received the 1921 Nobel Prize in Physics \"for his services to theoretical physics, and especially for his discovery of the law of the photoelectric effect\", a pivotal step', 'to Einstein in 1922. Footnotes Citations Albert Einstein Albert Einstein (; ; 14 March 1879 – 18 April 1955) was a German-born theoretical physicist who developed the theory of relativity, one of the two pillars of modern physics (alongside quantum mechanics). His work is also known for its influence on the philosophy of science. He is best known to the general public for his mass–energy equivalence formula , which has been dubbed \"the world\\'s most famous equation\". He received the 1921 Nobel Prize in Physics \"for his services to theoretical physics, and especially for his discovery of the law of', 'model for depictions of mad scientists and absent-minded professors; his expressive face and distinctive hairstyle have been widely copied and exaggerated. \"Time\" magazine\\'s Frederic Golden wrote that Einstein was \"a cartoonist\\'s dream come true\". Many popular quotations are often misattributed to him. Einstein received numerous awards and honors and in 1922 he was awarded the 1921 Nobel Prize in Physics \"for his services to Theoretical Physics, and especially for his discovery of the law of the photoelectric effect\". None of the nominations in 1921 met the criteria set by Alfred Nobel, so the 1921 prize was carried forward and awarded', 'observations were published in the international media, making Einstein world-famous. On 7 November 1919, the leading British newspaper \"The Times\" printed a banner headline that read: \"Revolution in Science – New Theory of the Universe – Newtonian Ideas Overthrown\". In 1920, he became a Foreign Member of the Royal Netherlands Academy of Arts and Sciences. In 1922, he was awarded the 1921 Nobel Prize in Physics \"for his services to Theoretical Physics, and especially for his discovery of the law of the photoelectric effect\". While the general theory of relativity was still considered somewhat controversial, the citation also does not', 'theory and stellar aberration. He was informed that he was trying to break down open doors (\"\"il enfonçait des portes ouvertes\"\"), and directed to classical works on optics. On 12 July 1815, as Fresnel was about to leave Paris, Arago left him a note on a new topic: Fresnel would not have ready access to these works outside Paris, and could not read English. But, in Mathieu — with a point-source of light made by focusing sunlight with a drop of honey, a crude micrometer of his own construction, and supporting apparatus made by a local locksmith — he began'], 'titles': ['\"Albert Einstein\"', '\"Albert Einstein\"', '\"Albert Einstein\"', '\"Albert Einstein\"', '\"Augustin-Jean Fresnel\"']}}>],\n",
      " 'documents': [<Document: {'content': 'Albert Einstein Albert Einstein (; ; 14 March 1879 – 18 April 1955) was a German-born theoretical physicist who developed the theory of relativity, one of the two pillars of modern physics (alongside quantum mechanics). His work is also known for its influence on the philosophy of science. He is best known to the general public for his mass–energy equivalence formula , which has been dubbed \"the world\\'s most famous equation\". He received the 1921 Nobel Prize in Physics \"for his services to theoretical physics, and especially for his discovery of the law of the photoelectric effect\", a pivotal step', 'content_type': 'text', 'score': 0.5022289852339108, 'meta': {'name': '\"Albert Einstein\"'}, 'id_hash_keys': ['content'], 'embedding': None, 'id': 'b85487f3f7fd1b9d5d4f4ed0aea4ef09'}>,\n",
      "               <Document: {'content': 'to Einstein in 1922. Footnotes Citations Albert Einstein Albert Einstein (; ; 14 March 1879 – 18 April 1955) was a German-born theoretical physicist who developed the theory of relativity, one of the two pillars of modern physics (alongside quantum mechanics). His work is also known for its influence on the philosophy of science. He is best known to the general public for his mass–energy equivalence formula , which has been dubbed \"the world\\'s most famous equation\". He received the 1921 Nobel Prize in Physics \"for his services to theoretical physics, and especially for his discovery of the law of', 'content_type': 'text', 'score': 0.5022138855319724, 'meta': {'name': '\"Albert Einstein\"'}, 'id_hash_keys': ['content'], 'embedding': None, 'id': 'ab6983f94425886f00fd550b2ac0f037'}>,\n",
      "               <Document: {'content': 'model for depictions of mad scientists and absent-minded professors; his expressive face and distinctive hairstyle have been widely copied and exaggerated. \"Time\" magazine\\'s Frederic Golden wrote that Einstein was \"a cartoonist\\'s dream come true\". Many popular quotations are often misattributed to him. Einstein received numerous awards and honors and in 1922 he was awarded the 1921 Nobel Prize in Physics \"for his services to Theoretical Physics, and especially for his discovery of the law of the photoelectric effect\". None of the nominations in 1921 met the criteria set by Alfred Nobel, so the 1921 prize was carried forward and awarded', 'content_type': 'text', 'score': 0.5021411119123516, 'meta': {'name': '\"Albert Einstein\"'}, 'id_hash_keys': ['content'], 'embedding': None, 'id': 'd34ecd3aeacc8cbd33555e07f9a98c73'}>,\n",
      "               <Document: {'content': 'observations were published in the international media, making Einstein world-famous. On 7 November 1919, the leading British newspaper \"The Times\" printed a banner headline that read: \"Revolution in Science – New Theory of the Universe – Newtonian Ideas Overthrown\". In 1920, he became a Foreign Member of the Royal Netherlands Academy of Arts and Sciences. In 1922, he was awarded the 1921 Nobel Prize in Physics \"for his services to Theoretical Physics, and especially for his discovery of the law of the photoelectric effect\". While the general theory of relativity was still considered somewhat controversial, the citation also does not', 'content_type': 'text', 'score': 0.5020899878276465, 'meta': {'name': '\"Albert Einstein\"'}, 'id_hash_keys': ['content'], 'embedding': None, 'id': '4a347e0fc7c1b7d06fa7d7a2aa580555'}>,\n",
      "               <Document: {'content': 'theory and stellar aberration. He was informed that he was trying to break down open doors (\"\"il enfonçait des portes ouvertes\"\"), and directed to classical works on optics. On 12 July 1815, as Fresnel was about to leave Paris, Arago left him a note on a new topic: Fresnel would not have ready access to these works outside Paris, and could not read English. But, in Mathieu — with a point-source of light made by focusing sunlight with a drop of honey, a crude micrometer of his own construction, and supporting apparatus made by a local locksmith — he began', 'content_type': 'text', 'score': 0.5019322403810851, 'meta': {'name': '\"Augustin-Jean Fresnel\"'}, 'id_hash_keys': ['content'], 'embedding': None, 'id': '3c527839680f7f5ff3cb758454fa5079'}>],\n",
      " 'node_id': 'Generator',\n",
      " 'params': {'Retriever': {'top_k': 5}},\n",
      " 'query': 'who is Albert Einstein?',\n",
      " 'root_node': 'Query'}\n"
     ]
    }
   ],
   "source": [
    "from pprint import pprint\n",
    "\n",
    "pprint(result)\n"
   ]
  },
  {
   "cell_type": "code",
   "execution_count": null,
   "id": "ee5e959f",
   "metadata": {},
   "outputs": [],
   "source": []
  }
 ],
 "metadata": {
  "kernelspec": {
   "display_name": "Python 3",
   "language": "python",
   "name": "python3"
  },
  "language_info": {
   "codemirror_mode": {
    "name": "ipython",
    "version": 3
   },
   "file_extension": ".py",
   "mimetype": "text/x-python",
   "name": "python",
   "nbconvert_exporter": "python",
   "pygments_lexer": "ipython3",
   "version": "3.10.2"
  },
  "vscode": {
   "interpreter": {
    "hash": "9e0b17eda74620141fa4487c859b257fe5f263f544fc6dc33180efb4b6956c3d"
   }
  }
 },
 "nbformat": 4,
 "nbformat_minor": 5
}
